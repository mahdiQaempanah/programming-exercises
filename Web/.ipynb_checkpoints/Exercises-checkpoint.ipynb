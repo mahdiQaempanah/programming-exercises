{
 "cells": [
  {
   "cell_type": "markdown",
   "id": "09ea4033",
   "metadata": {},
   "source": [
    "**1.1.find your private and public ip.**"
   ]
  },
  {
   "cell_type": "code",
   "execution_count": 1,
   "id": "1a05761a",
   "metadata": {
    "scrolled": true
   },
   "outputs": [
    {
     "name": "stdout",
     "output_type": "stream",
     "text": [
      "192.168.1.38 172.19.0.1 fd80::ac24:7891:add2:2f23 fd80::9f9c:71f:ed8e:7c8b \n",
      "45.136.230.152"
     ]
    }
   ],
   "source": [
    "!hostname -I #private Ip\n",
    "!curl -s http://tnx.nl/ip #public Ip"
   ]
  },
  {
   "cell_type": "markdown",
   "id": "6f34e497",
   "metadata": {},
   "source": [
    "**1.2.find google.com ip.**\n"
   ]
  },
  {
   "cell_type": "code",
   "execution_count": 2,
   "id": "807700f7",
   "metadata": {},
   "outputs": [
    {
     "name": "stdout",
     "output_type": "stream",
     "text": [
      "google.com has address 172.217.168.46\n",
      "google.com has IPv6 address 2a00:1450:400a:802::200e\n",
      "google.com mail is handled by 10 smtp.google.com.\n"
     ]
    }
   ],
   "source": [
    "!host google.com\n",
    "#گوگل سرورهای زیاد دارد در نتیجه تنها دارای یک آیپی نیست"
   ]
  },
  {
   "cell_type": "markdown",
   "id": "32eda295",
   "metadata": {},
   "source": [
    "**1.3.send request with nc to api.cafebazaar.ir.**"
   ]
  },
  {
   "cell_type": "code",
   "execution_count": 7,
   "id": "6b487766",
   "metadata": {},
   "outputs": [
    {
     "name": "stdout",
     "output_type": "stream",
     "text": [
      "HTTP/1.1 301 Moved Permanently\n",
      "Date: Mon, 24 Oct 2022 09:25:16 GMT\n",
      "Content-Type: text/html\n",
      "Content-Length: 166\n",
      "Connection: keep-alive\n",
      "Location: https://api.cafebazaar.ir/nc.1\n",
      "Server: Sotoon\n",
      "X-ZRK-SN: amsterdam1\n",
      "Accept-Ranges: bytes\n",
      "\n",
      "<html>\n",
      "<head><title>301 Moved Permanently</title></head>\n",
      "<body>\n",
      "<center><h1>301 Moved Permanently</h1></center>\n",
      "<hr><center>openresty</center>\n",
      "</body>\n",
      "</html>\n",
      "zsh:kill:1: kill 888 failed: no such process\n"
     ]
    }
   ],
   "source": [
    "!printf \"GET /nc.1 HTTP/1.1\\r\\nHost: api.cafebazaar.ir\\r\\n\\r\\n\" | nc api.cafebazaar.ir 80"
   ]
  },
  {
   "cell_type": "markdown",
   "id": "9dba8b74",
   "metadata": {},
   "source": [
    "**1.4.Instagram servers are closer or Google?**"
   ]
  },
  {
   "cell_type": "code",
   "execution_count": 3,
   "id": "65c8b658",
   "metadata": {},
   "outputs": [
    {
     "name": "stdout",
     "output_type": "stream",
     "text": [
      "PING google.com (216.239.38.120) 56(84) bytes of data.\n",
      "64 bytes from any-in-2678.1e100.net (216.239.38.120): icmp_seq=1 ttl=51 time=72.7 ms\n",
      "\n",
      "--- google.com ping statistics ---\n",
      "1 packets transmitted, 1 received, 0% packet loss, time 0ms\n",
      "rtt min/avg/max/mdev = 72.696/72.696/72.696/0.000 ms\n",
      "PING github.com (140.82.121.4) 56(84) bytes of data.\n",
      "64 bytes from lb-140-82-121-4-fra.github.com (140.82.121.4): icmp_seq=1 ttl=48 time=117 ms\n",
      "\n",
      "--- github.com ping statistics ---\n",
      "1 packets transmitted, 1 received, 0% packet loss, time 0ms\n",
      "rtt min/avg/max/mdev = 117.150/117.150/117.150/0.000 ms\n"
     ]
    }
   ],
   "source": [
    "!ping -c 1 google.com\n",
    "!ping -c 1 github.com #instagram is filter\n",
    "#هر کدام نزدیکتر است یحتمل پینگ کمتری دارد"
   ]
  },
  {
   "cell_type": "markdown",
   "id": "d91aac39",
   "metadata": {},
   "source": [
    "1.6. پکت‌های پینگی که به اینستاگرام فرستادی از چه روترهایی گذشته؟ "
   ]
  },
  {
   "cell_type": "code",
   "execution_count": 4,
   "id": "822a3827",
   "metadata": {},
   "outputs": [
    {
     "name": "stdout",
     "output_type": "stream",
     "text": [
      "Start: 2022-10-24T13:38:39+0330\n",
      "HOST: MGH                         Loss%   Snt   Last   Avg  Best  Wrst StDev\n",
      "  1.|-- _gateway                   0.0%    10    2.3   3.5   2.3   4.1   0.6\n",
      "  2.|-- 188.211.64.1               0.0%    10   31.2  35.7  31.2  50.4   5.9\n",
      "  3.|-- 93.118.125.41              0.0%    10   32.4  37.4  31.9  54.6   7.8\n",
      "  4.|-- ???                       100.0    10    0.0   0.0   0.0   0.0   0.0\n",
      "  5.|-- 5.239.247.5               50.0%    10   33.0  33.4  31.7  34.4   1.1\n",
      "  6.|-- 10.21.249.197             90.0%    10   31.1  31.1  31.1  31.1   0.0\n",
      "  7.|-- 10.202.6.94                0.0%    10   33.4  34.6  32.3  39.9   2.6\n",
      "  8.|-- 10.21.21.22                0.0%    10   33.6  34.1  32.9  36.4   1.1\n",
      "  9.|-- 10.21.0.10                10.0%    10   34.5  36.1  33.6  39.2   2.0\n",
      " 10.|-- 134.0.220.186              0.0%    10   75.5  77.4  75.3  82.0   2.4\n",
      " 11.|-- 213.202.5.239              0.0%    10   78.4  79.0  78.4  80.4   0.6\n",
      " 12.|-- 216.239.48.133             0.0%    10   79.4  78.7  76.8  81.9   1.4\n",
      " 13.|-- 172.253.79.255             0.0%    10   96.3  80.4  74.9  96.3   6.0\n",
      " 14.|-- any-in-2678.1e100.net      0.0%    10   70.4  74.8  70.4  84.5   4.7\n"
     ]
    }
   ],
   "source": [
    "!mtr -r google.com"
   ]
  },
  {
   "cell_type": "markdown",
   "id": "82b46fbb",
   "metadata": {},
   "source": [
    "**1.7. explain \"ip r\" command**"
   ]
  },
  {
   "cell_type": "markdown",
   "id": "61ab9190",
   "metadata": {},
   "source": [
    "ورودی های مسیر در هسته را خروجی میدهد."
   ]
  },
  {
   "cell_type": "markdown",
   "id": "cae2bea5",
   "metadata": {},
   "source": [
    "2.1. با دستور <ان اس> در پورت ۸۰۸۰ یک وب سرور ران کن که وقتی میریم توش بهمون صفحه اکزمپل دات کام را نشان دهد."
   ]
  },
  {
   "cell_type": "code",
   "execution_count": 9,
   "id": "1d004c00",
   "metadata": {},
   "outputs": [
    {
     "name": "stdout",
     "output_type": "stream",
     "text": [
      "GET / HTTP/1.1\r",
      "\r\n",
      "Host: localhost:8080\r",
      "\r\n",
      "Connection: keep-alive\r",
      "\r\n",
      "Cache-Control: max-age=0\r",
      "\r\n",
      "sec-ch-ua: \"Chromium\";v=\"106\", \"Google Chrome\";v=\"106\", \"Not;A=Brand\";v=\"99\"\r",
      "\r\n",
      "sec-ch-ua-mobile: ?0\r",
      "\r\n",
      "sec-ch-ua-platform: \"Linux\"\r",
      "\r\n",
      "Upgrade-Insecure-Requests: 1\r",
      "\r\n",
      "User-Agent: Mozilla/5.0 (X11; Linux x86_64) AppleWebKit/537.36 (KHTML, like Gecko) Chrome/106.0.0.0 Safari/537.36\r",
      "\r\n",
      "Accept: text/html,application/xhtml+xml,application/xml;q=0.9,image/avif,image/webp,image/apng,*/*;q=0.8,application/signed-exchange;v=b3;q=0.9\r",
      "\r\n",
      "Sec-Fetch-Site: none\r",
      "\r\n",
      "Sec-Fetch-Mode: navigate\r",
      "\r\n",
      "Sec-Fetch-User: ?1\r",
      "\r\n",
      "Sec-Fetch-Dest: document\r",
      "\r\n",
      "Accept-Encoding: gzip, deflate, br\r",
      "\r\n",
      "Accept-Language: en-US,en;q=0.9\r",
      "\r\n",
      "Cookie: _xsrf=2|0db2a963|b731b863996a4cf51806ec4fc07e1b0c|1666340866; username-localhost-8888=\"2|1:0|10:1666604789|23:username-localhost-8888|44:MGE4YmRmMjYwOTM5NDI5YmE0NWViZjBjODUzN2NhNWM=|8b75d278bc73c88e2b009d9b0864f61003bf14a1891aff9bd371c93065dd5802\"\r",
      "\r\n",
      "\r",
      "\r\n"
     ]
    }
   ],
   "source": [
    "!printf 'HTTP/1.1 200 OK\\n\\n%s' \"$(cat index.html)\" | netcat -l 8080  "
   ]
  }
 ],
 "metadata": {
  "kernelspec": {
   "display_name": "Python 3 (ipykernel)",
   "language": "python",
   "name": "python3"
  },
  "language_info": {
   "codemirror_mode": {
    "name": "ipython",
    "version": 3
   },
   "file_extension": ".py",
   "mimetype": "text/x-python",
   "name": "python",
   "nbconvert_exporter": "python",
   "pygments_lexer": "ipython3",
   "version": "3.8.10"
  },
  "widgets": {
   "application/vnd.jupyter.widget-state+json": {
    "state": {},
    "version_major": 2,
    "version_minor": 0
   }
  }
 },
 "nbformat": 4,
 "nbformat_minor": 5
}
